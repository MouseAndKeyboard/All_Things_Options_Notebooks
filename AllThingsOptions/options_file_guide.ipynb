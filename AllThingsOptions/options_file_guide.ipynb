{
 "nbformat": 4,
 "nbformat_minor": 2,
 "metadata": {
  "language_info": {
   "name": "python",
   "codemirror_mode": {
    "name": "ipython",
    "version": 3
   },
   "version": "3.7.3"
  },
  "orig_nbformat": 2,
  "file_extension": ".py",
  "mimetype": "text/x-python",
  "name": "python",
  "npconvert_exporter": "python",
  "pygments_lexer": "ipython3",
  "version": 3
 },
 "cells": [
  {
   "cell_type": "markdown",
   "execution_count": null,
   "metadata": {},
   "outputs": [],
   "source": [
    "# Guide to using `options.py` (this guide is already outdated...)\n",
    "---\n",
    "## Class: BinomialOption\n",
    "Description a work in progress\n"
   ]
  },
  {
   "cell_type": "code",
   "execution_count": 1,
   "metadata": {},
   "outputs": [],
   "source": [
    "from allthingsoptions import options"
   ]
  },
  {
   "cell_type": "markdown",
   "execution_count": null,
   "metadata": {},
   "outputs": [],
   "source": [
    "### use `options.BinomialOption` to create a single period binomial option"
   ]
  },
  {
   "cell_type": "code",
   "execution_count": 2,
   "metadata": {},
   "outputs": [
    {
     "name": "stdout",
     "output_type": "stream",
     "text": "Help on class BinomialOption in module allthingsoptions.options:\n\nclass BinomialOption(builtins.object)\n |  BinomialOption(stock_price, strike_price, up_price, down_price, risk_free, option_type='Call', override_up_payoff=0, override_down_payoff=0)\n |  \n |  Creates a single-period two-state option object, by default, a call option.\n |  \n |  Object calculates price (premium) of single-period option of arbitrary time period.\n |  Requires current underlying stock price, strike price, price in up state,\n |  price in down state, risk free rate.\n |  \n |  Option type is Call by default. Use option_type = \"Put\" to change to put\n |  \n |  Methods defined here:\n |  \n |  __init__(self, stock_price, strike_price, up_price, down_price, risk_free, option_type='Call', override_up_payoff=0, override_down_payoff=0)\n |      Initialize self.  See help(type(self)) for accurate signature.\n |  \n |  print_calc_values(self, rounding=2, hide_hegde_ratio=False, hide_risk_free_units=False, hide_state_payoffs=False, hide_risk_neutral_probabilites=False)\n |      # packed into a nice display function\n |  \n |  ----------------------------------------------------------------------\n |  Data descriptors defined here:\n |  \n |  __dict__\n |      dictionary for instance variables (if defined)\n |  \n |  __weakref__\n |      list of weak references to the object (if defined)\n\n"
    }
   ],
   "source": [
    "# to finish.\n",
    "help(options.BinomialOption)\n",
    "# eww... need to clean up."
   ]
  },
  {
   "cell_type": "code",
   "execution_count": 4,
   "metadata": {},
   "outputs": [
    {
     "name": "stdout",
     "output_type": "stream",
     "text": "The following values are for a single period Call option where the underlying value is 100, a strike price of 110, an up value of 110, \na down value of 95, and a risk free rate of 0.05%. All outputs are rounded to 2 decimal places.  User has opted to override payoff values.\n\n------------------------\nCall Option Information\n------------------------\nCalculated Option Price: 4.43\nCalculated Hedge Ratio: 0.47\nCalculated present value of bond position: -42.13\nUp state payoff is 6.984 and down state payoff is 0\nCalculated risk neutral probability for up state is 0.67 and for down state risk neutral probability is 0.33\n"
    }
   ],
   "source": [
    "override_call_example = options.BinomialOption(100, 110, 110, 95, 0.05, 'Call', 6.984, 0)\n",
    "\n",
    "override_call_example.print_calc_values()"
   ]
  },
  {
   "cell_type": "code",
   "execution_count": null,
   "metadata": {},
   "outputs": [],
   "source": []
  },
  {
   "cell_type": "code",
   "execution_count": null,
   "metadata": {},
   "outputs": [],
   "source": []
  },
  {
   "cell_type": "code",
   "execution_count": null,
   "metadata": {},
   "outputs": [],
   "source": []
  },
  {
   "cell_type": "code",
   "execution_count": null,
   "metadata": {},
   "outputs": [],
   "source": []
  }
 ]
}