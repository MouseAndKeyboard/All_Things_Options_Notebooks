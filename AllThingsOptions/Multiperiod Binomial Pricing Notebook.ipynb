{
 "nbformat": 4,
 "nbformat_minor": 2,
 "metadata": {
  "language_info": {
   "name": "python",
   "codemirror_mode": {
    "name": "ipython",
    "version": 3
   }
  },
  "orig_nbformat": 2,
  "file_extension": ".py",
  "mimetype": "text/x-python",
  "name": "python",
  "npconvert_exporter": "python",
  "pygments_lexer": "ipython3",
  "version": 3
 },
 "cells": [
  {
   "cell_type": "markdown",
   "execution_count": null,
   "metadata": {},
   "outputs": [],
   "source": [
    "# Multiperiod Binomial Pricing:\n",
    "\n",
    "## A couple things before starting\n",
    "\n",
    "### First thing to change is describing the risk-free in terms of continous compounding. \n",
    "In the Binomial Pricing model notebook I used `5.13%` as the annual risk-free rate. Where did that number come from? It comes from $e^{0.05}$ which equals `1.051271`... which is pretty much `5.13%` return. Very sneaky. But this will save headache later when working with smaller time frames. I'll update the binomial pricing code to reflect that in the main release.\n",
    "\n",
    "### Introducing Up and down factors."
   ]
  },
  {
   "cell_type": "code",
   "execution_count": null,
   "metadata": {},
   "outputs": [],
   "source": []
  }
 ]
}