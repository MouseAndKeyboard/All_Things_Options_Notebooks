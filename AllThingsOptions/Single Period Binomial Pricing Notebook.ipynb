{
 "nbformat": 4,
 "nbformat_minor": 2,
 "metadata": {
  "language_info": {
   "name": "python",
   "codemirror_mode": {
    "name": "ipython",
    "version": 3
   },
   "version": "3.7.3"
  },
  "orig_nbformat": 2,
  "file_extension": ".py",
  "mimetype": "text/x-python",
  "name": "python",
  "npconvert_exporter": "python",
  "pygments_lexer": "ipython3",
  "version": 3
 },
 "cells": [
  {
   "cell_type": "markdown",
   "execution_count": null,
   "metadata": {},
   "outputs": [],
   "source": [
    "# Refresher on Binomial Pricing Model\n",
    "\n",
    "Before jumping right into the Black-Scholes model I believe that it's important to describe what is going on under the hood. This can be done by first exploring the binomial pricing model for its simplicity in roughly describing what the Black-Scholes better achieves.  \n",
    "\n",
    "\n",
    "# Why explore this? \n",
    "\n",
    "This is the most rudimentary option pricing model out there. It seeks to measure the price of an option by describing its characteristics using only two different payoff states each with their own probability of occuring. More on that in a bit. In short the binomial pricing model is useful in demonstrating how to approximate an option price, how to calculate risk-neutral probabilities, and illustrates the logic needed in approximating solutions where no explicit analytical solution exists (like for American Puts).\n",
    "### A note:\n",
    "The main example I will be using can be found in *An Introduction to Derivative Securities, Financial Markets, and Risk Management* by Robert Jarrow and Arkadev Chatterjea. I'm not going to show the binomial tree diagrams (that might change in the future). If you are a visual learner I highly recommend you attempt to draw your own to build familiarity. [Here](https://xplaind.com/552187/binomial-options-pricing-model) is a short guide showing how the numerical values interact. Additionally,  Investopedia is a good place to start as they show how to visualize multi-period binomial tree diagrams in Excel which can be found [here](https://www.investopedia.com/terms/b/binomialoptionpricing.asp). "
   ]
  },
  {
   "cell_type": "markdown",
   "execution_count": null,
   "metadata": {},
   "outputs": [],
   "source": [
    "# A single period problem walkthrough\n",
    "\n",
    "You go to look up Your Beloved Machine Inc (YBM) stock price and find it sitting exactly at `$100`. Suppose you have an accurate but broken crystal ball that lets you see two different futures 1 year from now with their own discrete probabilites of occuring (don't ask why...). In one future you see the stock price rise to `$120` and your crystal ball says that the probability of this happening is `3/4` chance. In the other future you see the stock price drop to `$90.25` with a probaiblity of `1/4`. You know for certain it will be one or the other. According to the crystal ball one of these realities must occur. If its not `$120` then it will be `$90.25` It can't be any other number. Let's refer to these as the `up` and `down` states.\n",
    "\n",
    "* Price today: 100\n",
    "* After 1 year 2 different possibilties:\n",
    "\n",
    "\n",
    "|Outcome|Price|   Probability|\n",
    "|-------|-----|-----------|\n",
    "|Up|120.00|75%|\n",
    "|Down|90.25|25%|\n",
    "\n",
    "You want to try your hand at buying a European style call option for YBM stock. You get the option info and it says the strike price is `$110` and the cost of the call option is `$4.76`. In addition, you know the risk-free rate is 5.13% (wow, what a rate!). Now you are an intelligent investor and want to make sure you are getting a good deal. The trouble is, you have no idea if the premium  for the option is a resonable price! The more you think about it, the more you wonder how a person comes up with this price. So you open up your derivatives textbook and get to work figuring out how to calculate the price on your own.\n",
    "\n",
    "You recall the no-arbitrage rule and assume that the options follows a similiar rule (not going to comment on that loaded assumption). You figure that by replicating the call option using other assets and seeing what it costs then by the no-arbitrage principal that will be the call option's premium. You set about building a $synthetic$ $call$. \n",
    "\n",
    "# Still need to finish transcribing my notes to this notebook...\n",
    "\n",
    "# But, here's the final product of my notes:"
   ]
  },
  {
   "cell_type": "code",
   "execution_count": 7,
   "metadata": {},
   "outputs": [],
   "source": [
    "# the final product\n",
    "\n",
    "class BinomialOption:\n",
    "    def __init__(self, stock_price, strike_price, up_value, down_value, risk_free, option_type = 'Call'):\n",
    "        self.stock_price = stock_price\n",
    "        self.strike_price = strike_price\n",
    "        self.up_value = up_value\n",
    "        self.down_value = down_value\n",
    "        self.risk_free = risk_free\n",
    "        self.option_type = option_type\n",
    "        \n",
    "        if option_type == 'Call':\n",
    "            self.option_is_a_put = False\n",
    "        if option_type == 'Put':\n",
    "            self.option_is_a_put = True \n",
    "\n",
    "        \n",
    "        # calculations done all at once.\n",
    "        \n",
    "        # flow control for call or put options\n",
    "        # in the up state\n",
    "        if self.option_is_a_put:\n",
    "            # this mimics the up state payoff structure for a put \n",
    "            self.up_payoff = max(self.strike_price - self.up_value, 0)\n",
    "        else:\n",
    "            # this mimics the up payoff structure for a call \n",
    "            self.up_payoff = max(self.up_value - self.strike_price, 0) \n",
    "        \n",
    "        # in the down state\n",
    "        if self.option_is_a_put:\n",
    "            # this mimics the down payoff structure for a put \n",
    "            self.down_payoff = max(self.strike_price - self.down_value, 0)\n",
    "        else: \n",
    "            self.down_payoff = max(self.down_value - self.strike_price, 0)\n",
    "        \n",
    "\n",
    "        # \n",
    "        self.hedge_ratio =  (self.up_payoff - self.down_payoff)/(self.up_value - self.down_value)\n",
    "        self.rf_units = (1/(1+self.risk_free))*(self.up_payoff-(self.hedge_ratio*self.up_value))\n",
    "\n",
    "        #work back to present value. By no-arbitrage rules and replication this calculation is the option price. \n",
    "        self.option_price = self.hedge_ratio*self.stock_price + self.rf_units\n",
    "        \n",
    "        #risk neutral probabilites\n",
    "        self.up_risk_neutral_prob = ((1+self.risk_free)*(self.stock_price)-self.down_value)/(self.up_value-self.down_value)\n",
    "        self.down_risk_neutral_prob = 1-self.up_risk_neutral_prob\n",
    "\n",
    "    # packed into a nice display function    \n",
    "    def print_calc_values(self, rounding = 2, hide_hegde_ratio = False, hide_risk_free_units = False, hide_state_payoffs = False, hide_risk_neutral_probabilites = False):\n",
    "        \n",
    "        # provides a message to user if any field is hidden.\n",
    "        if hide_hegde_ratio or hide_risk_free_units or hide_state_payoffs or hide_risk_neutral_probabilites:\n",
    "            headsup = 'Additionally, NOT ALL FIELDS ARE DISPLAYED!'\n",
    "        else:\n",
    "            headsup = ''\n",
    "        print('''The following values are for a single period {} option where the underlying value is {}, a strike price of {}, an up value of {}, \n",
    "a down value of {}, and a risk free rate of {}%. All outputs are rounded to {} decimal places. {}'''.format(self.option_type, self.stock_price, self.strike_price, self.up_value, self.down_value, self.risk_free, rounding, headsup))\n",
    "\n",
    "        print('''\\n------------------------\n",
    "{} Option Information\n",
    "------------------------'''.format(self.option_type))\n",
    "        \n",
    "        print('Calculated Option Price: {}'.format(round(self.option_price, rounding)))\n",
    "        \n",
    "        if hide_hegde_ratio:\n",
    "            pass\n",
    "        else:\n",
    "            print('Calculated Hedge Ratio: {}'.format(round(self.hedge_ratio, rounding)))\n",
    "\n",
    "        if hide_risk_free_units:\n",
    "            pass\n",
    "        else:\n",
    "            print('Calculated present value of bond position: {}'.format(round(self.rf_units, rounding)))\n",
    "\n",
    "        if hide_state_payoffs:\n",
    "            pass\n",
    "        else:\n",
    "            print('Up state payoff is {} and down state payoff is {}'.format(self.up_payoff, self.down_payoff))\n",
    "\n",
    "        if hide_risk_neutral_probabilites:\n",
    "            pass\n",
    "        else: \n",
    "            print('Calculated risk neutral probability for up state is {} and for down state risk neutral probability is {}'.format(round(self.up_risk_neutral_prob, rounding), round(self.down_risk_neutral_prob, rounding)))"
   ]
  },
  {
   "cell_type": "markdown",
   "execution_count": null,
   "metadata": {},
   "outputs": [],
   "source": [
    "# Testing the class. Try a call option"
   ]
  },
  {
   "cell_type": "code",
   "execution_count": 8,
   "metadata": {},
   "outputs": [
    {
     "name": "stdout",
     "output_type": "stream",
     "text": "The following values are for a single period Call option where the underlying value is 100, a strike price of 110, an up value of 120, \na down value of 90.25, and a risk free rate of 0.0513%. All outputs are rounded to 2 decimal places. \n\n------------------------\nCall Option Information\n------------------------\nCalculated Option Price: 4.76\nCalculated Hedge Ratio: 0.34\nCalculated present value of bond position: -28.86\nUp state payoff is 10 and down state payoff is 0\nCalculated risk neutral probability for up state is 0.5 and for down state risk neutral probability is 0.5\n"
    }
   ],
   "source": [
    "# start with a call option (by default the program assumes a call option)\n",
    "b_call = BinomialOption(100, 110, 120, 90.25, 0.0513)\n",
    "\n",
    "# by default display all relavent information. Defaults to rounding to 2 decimal places.\n",
    "b_call.print_calc_values()"
   ]
  },
  {
   "cell_type": "markdown",
   "execution_count": null,
   "metadata": {},
   "outputs": [],
   "source": [
    "# Try a put option now:\n"
   ]
  },
  {
   "cell_type": "code",
   "execution_count": 9,
   "metadata": {},
   "outputs": [
    {
     "name": "stdout",
     "output_type": "stream",
     "text": "The following values are for a single period Put option where the underlying value is 100, a strike price of 110, an up value of 120, \na down value of 90.25, and a risk free rate of 0.0513%. All outputs are rounded to 2 decimal places. \n\n------------------------\nPut Option Information\n------------------------\nCalculated Option Price: 9.39\nCalculated Hedge Ratio: -0.66\nCalculated present value of bond position: 75.78\nUp state payoff is 0 and down state payoff is 19.75\nCalculated risk neutral probability for up state is 0.5 and for down state risk neutral probability is 0.5\n"
    }
   ],
   "source": [
    "b_put = BinomialOption(100, 110, 120, 90.25, 0.0513, 'Put')\n",
    "b_put.print_calc_values()"
   ]
  },
  {
   "cell_type": "markdown",
   "execution_count": null,
   "metadata": {},
   "outputs": [],
   "source": [
    "# Can change the level of detail by providing a rounding argument:"
   ]
  },
  {
   "cell_type": "code",
   "execution_count": 10,
   "metadata": {},
   "outputs": [
    {
     "name": "stdout",
     "output_type": "stream",
     "text": "The following values are for a single period Put option where the underlying value is 100, a strike price of 110, an up value of 120, \na down value of 90.25, and a risk free rate of 0.0513%. All outputs are rounded to 4 decimal places. \n\n------------------------\nPut Option Information\n------------------------\nCalculated Option Price: 9.39\nCalculated Hedge Ratio: -0.6639\nCalculated present value of bond position: 75.7765\nUp state payoff is 0 and down state payoff is 19.75\nCalculated risk neutral probability for up state is 0.5002 and for down state risk neutral probability is 0.4998\n"
    }
   ],
   "source": [
    "b_put = BinomialOption(100, 110, 120, 90.25, 0.0513, 'Put')\n",
    "b_put.print_calc_values(rounding = 4)"
   ]
  },
  {
   "cell_type": "markdown",
   "execution_count": null,
   "metadata": {},
   "outputs": [],
   "source": [
    "### Notice that the risk-neutral probabilites are not actually 0.5 but slightly different.\n",
    "\n",
    "### Also, notice that the price option still rounded. This is because it's extremely close to `$9.39`. Observe the following:"
   ]
  },
  {
   "cell_type": "code",
   "execution_count": 11,
   "metadata": {},
   "outputs": [
    {
     "name": "stdout",
     "output_type": "stream",
     "text": "The following values are for a single period Put option where the underlying value is 100, a strike price of 110, an up value of 120, \na down value of 90.25, and a risk free rate of 0.0513%. All outputs are rounded to 6 decimal places. \n\n------------------------\nPut Option Information\n------------------------\nCalculated Option Price: 9.389975\nCalculated Hedge Ratio: -0.663866\nCalculated present value of bond position: 75.77653\nUp state payoff is 0 and down state payoff is 19.75\nCalculated risk neutral probability for up state is 0.500168 and for down state risk neutral probability is 0.499832\n"
    }
   ],
   "source": [
    "# same as before with slightly different formating.\n",
    "b_put.print_calc_values(rounding = 6)"
   ]
  },
  {
   "cell_type": "markdown",
   "execution_count": null,
   "metadata": {},
   "outputs": [],
   "source": [
    "# Can also hide fields"
   ]
  },
  {
   "cell_type": "code",
   "execution_count": 12,
   "metadata": {},
   "outputs": [
    {
     "name": "stdout",
     "output_type": "stream",
     "text": "The following values are for a single period Put option where the underlying value is 100, a strike price of 110, an up value of 120, \na down value of 90.25, and a risk free rate of 0.0513%. All outputs are rounded to 2 decimal places. Additionally, NOT ALL FIELDS ARE DISPLAYED!\n\n------------------------\nPut Option Information\n------------------------\nCalculated Option Price: 9.39\n"
    }
   ],
   "source": [
    "# This should only display option price, which is always displayed.\n",
    "b_put.print_calc_values(hide_hegde_ratio = True, hide_risk_free_units=True, hide_state_payoffs=True, hide_risk_neutral_probabilites=True)"
   ]
  },
  {
   "cell_type": "markdown",
   "execution_count": null,
   "metadata": {},
   "outputs": [],
   "source": [
    "### Notice that hiding any field will prompt a warning that not all fields are being displayed."
   ]
  },
  {
   "cell_type": "code",
   "execution_count": 13,
   "metadata": {},
   "outputs": [
    {
     "name": "stdout",
     "output_type": "stream",
     "text": "The following values are for a single period Put option where the underlying value is 100, a strike price of 110, an up value of 120, \na down value of 90.25, and a risk free rate of 0.0513%. All outputs are rounded to 2 decimal places. Additionally, NOT ALL FIELDS ARE DISPLAYED!\n\n------------------------\nPut Option Information\n------------------------\nCalculated Option Price: 9.39\nCalculated Hedge Ratio: -0.66\nCalculated present value of bond position: 75.78\nCalculated risk neutral probability for up state is 0.5 and for down state risk neutral probability is 0.5\n"
    }
   ],
   "source": [
    "# opt to hide state payoffs\n",
    "b_put.print_calc_values(hide_state_payoffs=True)"
   ]
  },
  {
   "cell_type": "markdown",
   "execution_count": null,
   "metadata": {},
   "outputs": [],
   "source": [
    "# A couple more examples"
   ]
  },
  {
   "cell_type": "code",
   "execution_count": 14,
   "metadata": {},
   "outputs": [
    {
     "name": "stdout",
     "output_type": "stream",
     "text": "The following values are for a single period Call option where the underlying value is 60, a strike price of 61, an up value of 66, \na down value of 57, and a risk free rate of 0.05%. All outputs are rounded to 2 decimal places. \n\n------------------------\nCall Option Information\n------------------------\nCalculated Option Price: 3.17\nCalculated Hedge Ratio: 0.56\nCalculated present value of bond position: -30.16\nUp state payoff is 5 and down state payoff is 0\nCalculated risk neutral probability for up state is 0.67 and for down state risk neutral probability is 0.33\n"
    }
   ],
   "source": [
    "another_call_option = BinomialOption(60, 61, 66, 57, 0.05)\n",
    "another_call_option.print_calc_values()"
   ]
  },
  {
   "cell_type": "markdown",
   "execution_count": null,
   "metadata": {},
   "outputs": [],
   "source": [
    "### That looks correct... try the same thing but make it a put this time"
   ]
  },
  {
   "cell_type": "code",
   "execution_count": 15,
   "metadata": {},
   "outputs": [
    {
     "name": "stdout",
     "output_type": "stream",
     "text": "The following values are for a single period Put option where the underlying value is 60, a strike price of 61, an up value of 66, \na down value of 57, and a risk free rate of 0.05%. All outputs are rounded to 2 decimal places. \n\n------------------------\nPut Option Information\n------------------------\nCalculated Option Price: 1.27\nCalculated Hedge Ratio: -0.44\nCalculated present value of bond position: 27.94\nUp state payoff is 0 and down state payoff is 4\nCalculated risk neutral probability for up state is 0.67 and for down state risk neutral probability is 0.33\n"
    }
   ],
   "source": [
    "another_put_option = BinomialOption(60, 61, 66, 57, 0.05, 'Put')\n",
    "another_put_option.print_calc_values()"
   ]
  },
  {
   "cell_type": "markdown",
   "execution_count": null,
   "metadata": {},
   "outputs": [],
   "source": []
  },
  {
   "cell_type": "markdown",
   "execution_count": 18,
   "metadata": {},
   "outputs": [
    {
     "data": {
      "text/plain": "0.4444444444444444"
     },
     "execution_count": 18,
     "metadata": {},
     "output_type": "execute_result"
    }
   ],
   "source": [
    "# Again that looks right, but couldn't hurt to double check. Does it pass the put-call parity test?\n",
    "\n",
    "That is, does the following hold?\n",
    "\n",
    "$\\begin{equation*} \n",
    "stock + put = PV(strike) + call\n",
    "\\end{equation*}$\n",
    "\n",
    "From above stock = `60`, put = `1.27`, strike = `61`, call is `3.17`, and interest rate is  `0.05`. \n",
    "So,\n",
    "\n",
    "$\\begin{equation*} \n",
    "60 + 1.27 = PV(61) + 3.17\\\\\n",
    "\\end{equation*}$\n",
    "\n",
    "$\\begin{equation*} \n",
    "61.27 = \\frac{61}{1+R} + 3.17\n",
    "\\end{equation*}$\n",
    "\n",
    "$\\begin{equation*} \n",
    "61.27 = \\frac{61}{1+0.05} + 3.17\n",
    "\\end{equation*}$\n",
    "\n",
    "$\\begin{equation*} \n",
    "61.27 = 61.27\n",
    "\\end{equation*}$\n",
    "\n",
    "The put-call parity test holds. "
   ]
  },
  {
   "cell_type": "code",
   "execution_count": 22,
   "metadata": {},
   "outputs": [
    {
     "name": "stdout",
     "output_type": "stream",
     "text": "61.269841269841265\n61.269841269841265\n"
    }
   ],
   "source": [
    "# extra stuff\n",
    "left_side = 60 + another_put_option.option_price\n",
    "right_side = 61/1.05 + another_call_option.option_price\n",
    "\n",
    "print(left_side)\n",
    "print(right_side)"
   ]
  },
  {
   "cell_type": "markdown",
   "execution_count": null,
   "metadata": {},
   "outputs": [],
   "source": [
    "# Everything checks out\n",
    "\n",
    "I dropped the class code into its own file called `options.py` Below shows a simple use of the module. I have another notebook to see the most up to date usage of the options.py file. Go check it out"
   ]
  },
  {
   "cell_type": "code",
   "execution_count": 19,
   "metadata": {},
   "outputs": [],
   "source": [
    "from allthingsoptions import options"
   ]
  },
  {
   "cell_type": "code",
   "execution_count": 20,
   "metadata": {},
   "outputs": [
    {
     "name": "stdout",
     "output_type": "stream",
     "text": "The following values are for a single period Call option where the underlying value is 100, a strike price of 110, an up value of 120, \na down value of 90.25, and a risk free rate of 0.0513%. All outputs are rounded to 2 decimal places. \n\n------------------------\nCall Option Information\n------------------------\nCalculated Option Price: 4.76\nCalculated Hedge Ratio: 0.34\nCalculated present value of bond position: -28.86\nUp state payoff is 10 and down state payoff is 0\nCalculated risk neutral probability for up state is 0.5 and for down state risk neutral probability is 0.5\n"
    }
   ],
   "source": [
    "b_call_test = options.BinomialOption(100, 110, 120, 90.25, 0.0513)\n",
    "\n",
    "b_call_test.print_calc_values()"
   ]
  },
  {
   "cell_type": "code",
   "execution_count": 21,
   "metadata": {},
   "outputs": [
    {
     "name": "stdout",
     "output_type": "stream",
     "text": "The following values are for a single period Call option where the underlying value is 100, a strike price of 110, an up value of 120, \na down value of 90, and a risk free rate of 0.1%. All outputs are rounded to 2 decimal places. \n\n------------------------\nCall Option Information\n------------------------\nCalculated Option Price: 6.06\nCalculated Hedge Ratio: 0.33\nCalculated present value of bond position: -27.27\nUp state payoff is 10 and down state payoff is 0\nCalculated risk neutral probability for up state is 0.67 and for down state risk neutral probability is 0.33\n"
    }
   ],
   "source": [
    "single_period_call = options.BinomialOption(100, 110, 120, 90, 0.10, 'Call')\n",
    "single_period_call.print_calc_values()"
   ]
  },
  {
   "cell_type": "code",
   "execution_count": 9,
   "metadata": {},
   "outputs": [
    {
     "data": {
      "text/plain": "27.27272727272727"
     },
     "execution_count": 9,
     "metadata": {},
     "output_type": "execute_result"
    }
   ],
   "source": [
    "30/1.1"
   ]
  },
  {
   "cell_type": "code",
   "execution_count": null,
   "metadata": {},
   "outputs": [],
   "source": []
  }
 ]
}