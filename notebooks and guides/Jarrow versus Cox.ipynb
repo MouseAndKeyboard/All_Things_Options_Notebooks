{
 "nbformat": 4,
 "nbformat_minor": 2,
 "metadata": {
  "language_info": {
   "name": "python",
   "codemirror_mode": {
    "name": "ipython",
    "version": 3
   },
   "version": "3.7.3"
  },
  "orig_nbformat": 2,
  "file_extension": ".py",
  "mimetype": "text/x-python",
  "name": "python",
  "npconvert_exporter": "python",
  "pygments_lexer": "ipython3",
  "version": 3
 },
 "cells": [
  {
   "cell_type": "markdown",
   "execution_count": null,
   "metadata": {},
   "outputs": [],
   "source": [
    "# Comparing approaches to volatiltiy:\n",
    "In one of the other notebooks I stated that Jarrow-Rudd approach will have the pseudo-probabililty approach 50/50. Additionally I said that Cox-Ross-Rubinstein model performs poorly for larger time intervals or smaller volatilties. But what's the best way to quickly demonstrate those statements? Here I think this through. \n",
    "\n",
    "# Some code I threw together."
   ]
  },
  {
   "cell_type": "code",
   "execution_count": null,
   "metadata": {},
   "outputs": [],
   "source": [
    "from math import exp, sqrt\n",
    "\n",
    "# Jarrow-Rudd approach to calculating up and down factors\n",
    "def updn_jr(annual_rf_rate, periods_in_year, volatility):\n",
    "    dt = 1/periods_in_year\n",
    "    up_factor = exp(annual_rf_rate*dt - ((volatility**2) / 2) * dt + volatility*sqrt(dt))\n",
    "    dn_factor = exp(annual_rf_rate*dt - ((volatility**2) / 2) * dt - volatility*sqrt(dt))\n",
    "\n",
    "    # The risk-neutral probabilites\n",
    "    up_neutral = (exp(annual_rf_rate * dt) - dn_factor) / (up_factor - dn_factor)\n",
    "    dn_neutral = 1-up_neutral\n",
    "    \n",
    "    return (up_factor, dn_factor, up_neutral, dn_neutral)\n",
    "\n",
    "# Cox-Ross-Rubinstein appraoch to calculating up and down factors\n",
    "def updn_crr(annual_rf_rate, periods_in_year, volatility):\n",
    "    dt = 1/periods_in_year\n",
    "    up_factor = exp(volatility*sqrt(dt))\n",
    "    dn_factor = 1/up_factor\n",
    "\n",
    "    # The risk-neutral probabilites\n",
    "    up_neutral = (exp(annual_rf_rate * dt) - dn_factor) / (up_factor - dn_factor)\n",
    "    dn_neutral = 1-up_neutral\n",
    "\n",
    "    return (up_factor, dn_factor, up_neutral, dn_neutral)"
   ]
  },
  {
   "cell_type": "markdown",
   "execution_count": null,
   "metadata": {},
   "outputs": [],
   "source": [
    "This code could use some work but it should suffice for now. Let's start by capturing data under different values. To do that we will itterate over the functions and grab the data."
   ]
  },
  {
   "cell_type": "code",
   "execution_count": 1,
   "metadata": {},
   "outputs": [],
   "source": [
    "import numpy as np"
   ]
  },
  {
   "cell_type": "markdown",
   "execution_count": null,
   "metadata": {},
   "outputs": [],
   "source": [
    "# actually this is not important at the moment. I'll come back to this later. Got a good idea for it though."
   ]
  },
  {
   "cell_type": "code",
   "execution_count": null,
   "metadata": {},
   "outputs": [],
   "source": []
  }
 ]
}