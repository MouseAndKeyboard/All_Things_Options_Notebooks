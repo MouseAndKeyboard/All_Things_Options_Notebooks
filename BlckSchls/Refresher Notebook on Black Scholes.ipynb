{
 "nbformat": 4,
 "nbformat_minor": 2,
 "metadata": {
  "language_info": {
   "name": "python",
   "codemirror_mode": {
    "name": "ipython",
    "version": 3
   }
  },
  "orig_nbformat": 2,
  "file_extension": ".py",
  "mimetype": "text/x-python",
  "name": "python",
  "npconvert_exporter": "python",
  "pygments_lexer": "ipython3",
  "version": 3
 },
 "cells": [
  {
   "cell_type": "markdown",
   "execution_count": null,
   "metadata": {},
   "outputs": [],
   "source": [
    "# Refresher on Black Scholes\n",
    "\n",
    "It's been a while since I've done anything with Black-Scholes model/formula... I've always done this in excel. This will be the first time attempting these calculation in python. So this is a refresher and an exploratory notebook.\n",
    "\n",
    "### A note:\n",
    "I'm going to assume the reader is familiar with options and the unique features of options as I'm not going to spend time teaching the basics. Readers should look elsewhere if they are unfamiliar with any of the following terms; underlying price, standard deviation of log returns of the underlying asset, annual continously-compounded risk-free rate of return, strike price, maturity, european and American call options. That's not an exhaustive list, but it should be enough to scare off any those who are not in the 'know'. If I later add notebooks that introduce the concepts of options I will be sure to link them here. For now, this work is mostly for myself.\n",
    "\n"
   ]
  }
 ]
}