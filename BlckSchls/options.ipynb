{
 "nbformat": 4,
 "nbformat_minor": 2,
 "metadata": {
  "language_info": {
   "name": "python",
   "codemirror_mode": {
    "name": "ipython",
    "version": 3
   },
   "version": "3.7.3"
  },
  "orig_nbformat": 2,
  "file_extension": ".py",
  "mimetype": "text/x-python",
  "name": "python",
  "npconvert_exporter": "python",
  "pygments_lexer": "ipython3",
  "version": 3
 },
 "cells": [
  {
   "source": [
    "\n",
    "class BuyCall:\n",
    "    def __init__(self, premium, strike, num_contracts):\n",
    "        self.premium = premium\n",
    "        self.strike = strike\n",
    "        self.num_contracts = num_contracts\n",
    "\n",
    "    #def info(self):\n",
    "    #    print('This Long Call...')    \n",
    "\n",
    "class SellCall:\n",
    "    def __init__(self, premium, strike, num_contracts):\n",
    "        self.premium = premium\n",
    "        self.strike = strike\n",
    "        self.num_contracts = num_contracts\n",
    "\n",
    "class BuyPut:\n",
    "    def __init__(self, premium, strike, num_contracts):\n",
    "        self.premium = premium\n",
    "        self.strike = strike\n",
    "        self.num_contracts = num_contracts\n",
    "\n",
    "class SellPut:\n",
    "    def __init__(self, premium, strike, num_contracts):\n",
    "        self.premium = premium\n",
    "        self.strike = strike\n",
    "        self.num_contracts = num_contracts\n",
    "\n",
    "\n",
    "    "
   ],
   "cell_type": "code",
   "outputs": [],
   "metadata": {},
   "execution_count": 5
  },
  {
   "cell_type": "code",
   "execution_count": null,
   "metadata": {},
   "outputs": [],
   "source": []
  }
 ]
}