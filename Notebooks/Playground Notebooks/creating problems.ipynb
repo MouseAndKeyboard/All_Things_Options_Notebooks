{
 "nbformat": 4,
 "nbformat_minor": 2,
 "metadata": {
  "language_info": {
   "name": "python",
   "codemirror_mode": {
    "name": "ipython",
    "version": 3
   },
   "version": "3.7.3"
  },
  "orig_nbformat": 2,
  "file_extension": ".py",
  "mimetype": "text/x-python",
  "name": "python",
  "npconvert_exporter": "python",
  "pygments_lexer": "ipython3",
  "version": 3
 },
 "cells": [
  {
   "cell_type": "markdown",
   "execution_count": null,
   "metadata": {},
   "outputs": [],
   "source": [
    "Consider the following\n",
    "\n",
    "![problem](imgp/four_period_example.png)\n",
    "\n",
    "### Fill in all the potential prices the underlying asset could have in this 4 period tree."
   ]
  },
  {
   "cell_type": "code",
   "execution_count": 2,
   "metadata": {},
   "outputs": [
    {
     "name": "stdout",
     "output_type": "stream",
     "text": "146.41000000000005\n"
    }
   ],
   "source": [
    "\n",
    "underlying = 100\n",
    "upf = .10\n",
    "dnf = -0.05\n",
    "\n",
    "# Calculating the old fashioned way... manually!\n",
    "\n",
    "highest = ((1+upf)**4) * underlying\n",
    "print(highest) "
   ]
  },
  {
   "cell_type": "code",
   "execution_count": 3,
   "metadata": {},
   "outputs": [],
   "source": [
    "# ew that formating is going to get on my nerves...\n",
    "def printr(valu):\n",
    "    print(round(valu, 2))"
   ]
  },
  {
   "cell_type": "code",
   "execution_count": 4,
   "metadata": {},
   "outputs": [
    {
     "name": "stdout",
     "output_type": "stream",
     "text": "146.41\n"
    }
   ],
   "source": [
    "printr(highest)"
   ]
  },
  {
   "cell_type": "code",
   "execution_count": 6,
   "metadata": {},
   "outputs": [
    {
     "name": "stdout",
     "output_type": "stream",
     "text": "81.45\n"
    }
   ],
   "source": [
    "# back to the task.\n",
    "lowest = ((1+dnf) ** 4) * underlying\n",
    "printr(lowest)"
   ]
  },
  {
   "cell_type": "markdown",
   "execution_count": null,
   "metadata": {},
   "outputs": [],
   "source": [
    "## Opps I just realized that my volatility is in terms of every 3 months. I want it in terms of every 6 months (just so I can compare it to the example used in the MultPeriod Notebook)\n",
    "\n",
    "Note to self: update image to reflect this information."
   ]
  },
  {
   "cell_type": "markdown",
   "execution_count": null,
   "metadata": {},
   "outputs": [],
   "source": [
    "### Describe a general approach to calculate, assign, and handle all nodes in this tree. Make the approach scalable."
   ]
  },
  {
   "cell_type": "code",
   "execution_count": null,
   "metadata": {},
   "outputs": [],
   "source": []
  }
 ]
}