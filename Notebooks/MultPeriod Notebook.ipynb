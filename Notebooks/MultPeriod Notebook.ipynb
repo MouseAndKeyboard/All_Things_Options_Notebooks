{
 "nbformat": 4,
 "nbformat_minor": 2,
 "metadata": {
  "language_info": {
   "name": "python",
   "codemirror_mode": {
    "name": "ipython",
    "version": 3
   },
   "version": "3.7.3"
  },
  "orig_nbformat": 2,
  "file_extension": ".py",
  "mimetype": "text/x-python",
  "name": "python",
  "npconvert_exporter": "python",
  "pygments_lexer": "ipython3",
  "version": 3
 },
 "cells": [
  {
   "cell_type": "markdown",
   "execution_count": null,
   "metadata": {},
   "outputs": [],
   "source": [
    "# Demonstrating *\"chaining\"* the binomial option pricing method over an arbitrary timeframe to show how it can approximate Black-Scholes\n",
    "\n",
    "Consider the following scenario. \n",
    "\n",
    "![Example Scenario](img/two_period_example.png)\n",
    "\n",
    "## Question: What would be the fair price of European style call option that expires 1 year from now?\n",
    "\n",
    "Consider answering this question using the single period binomial option pricing method? After all, we know the current stock price, the strike price, the payoffs in the up and down state, and risk free rate. Is it safe to assume that we can focus on just the beginning and the end? Like this? \n",
    "\n",
    "![A niave assumption](img/bad_1_period_assumption_example.png)\n",
    "\n",
    "That seems like a good idea but this will result in a complete misspricing. But let's try and price it anyway using the binomial pricing code I built."
   ]
  },
  {
   "cell_type": "code",
   "execution_count": 2,
   "metadata": {},
   "outputs": [
    {
     "name": "stdout",
     "output_type": "stream",
     "text": "===============================================================================\n  INFORMATION FOR A SINGLE PEIORD CALL OPTION USING BINMOMIAL PRICING METHOD\n===============================================================================\n\nThe calculations below are for a single period CALL option where the underlying value is 100, \nwith a strike price of 110, an up price of 121, a down price of 90.25, and a risk free rate of 10.0%.\nAll outputs are rounded to 2 decimal places.  \n\n--------------\nCalculations\n--------------\nCalculated Option Price: 6.42\nCalculated Hedge Ratio: 0.36\nCalculated present value of bond position: -29.35\nUp state payoff is 11 and down state payoff is 0\nCalculated risk neutral probability for up state is 0.64 and for down state risk neutral probability is 0.36\n_____________________________________________________________________________________________________________\n\n"
    }
   ],
   "source": [
    "from atop.options.calloption import CallOption\n",
    "\n",
    "call_calc = CallOption(100, 110, 121, 90.25, .1)\n",
    "call_calc.print_calc_values()"
   ]
  },
  {
   "cell_type": "markdown",
   "execution_count": null,
   "metadata": {},
   "outputs": [],
   "source": [
    "# Looks can be deceiving...\n",
    "\n",
    "The answer we got here is wrong. Why? Well, we made a number of bad assumptions. 1st, we assumed that there are only 2 payoff states at expiration. Scroll back to the top and you will notice that there are actually 3 payoff states of `121`, `104.50`, and `90.25`. The second bad assumption is a mix up of probabilites. At any point in time, the probability of going up or down are each 50/50. So in our naive assumpion of only 2 payoff states we assume the stock either achieves `121` or `90.25`. But now that we know there are actually 3 payoff states to this problem then 50/50 does not make sense. In fact on closer inspection it appears that the actual probabilites are instead `25%` for `121`, `50%` for `104.50`, and `25%` for `90.25`. Our last assumption was that the price of the option does not evolve over time. Suppose it was the case that the option price was `$ 6.42`. Does that mean it stays that price from then until expiration? No! \n",
    "\n",
    "Here's why. The single period binomial pricing model accurately prices an option for an *arbitrary* period of time. Notice that at no point in my code do I ask for a time to expiration date. One would assume that this was because the code could only be used for 1 year time periods. In fact, this is not the case. Additionally, the risk-free rate is *not* denoted as an annual risk-free rate but instead as simply, the risk free rate. Lastly, did you notice that each class has an override ability? By default, the code assumes it can calculate the payoffs from the difference in the strike price and the up and down values. So one would think you never need to override the payoffs. But that's not the case for multi-period "
   ]
  },
  {
   "cell_type": "code",
   "execution_count": null,
   "metadata": {},
   "outputs": [],
   "source": []
  }
 ]
}