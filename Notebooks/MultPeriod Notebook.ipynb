{
 "nbformat": 4,
 "nbformat_minor": 2,
 "metadata": {
  "language_info": {
   "name": "python",
   "codemirror_mode": {
    "name": "ipython",
    "version": 3
   },
   "version": "3.7.3"
  },
  "orig_nbformat": 2,
  "file_extension": ".py",
  "mimetype": "text/x-python",
  "name": "python",
  "npconvert_exporter": "python",
  "pygments_lexer": "ipython3",
  "version": 3
 },
 "cells": [
  {
   "cell_type": "markdown",
   "execution_count": null,
   "metadata": {},
   "outputs": [],
   "source": [
    "# Demonstrating *\"chaining\"* the binomial option pricing method over an arbitrary timeframe to show how it can approximate Black-Scholes\n",
    "\n",
    "Consider the following scenario. \n",
    "\n",
    "![title](img/two_period_example.png)\n",
    "\n",
    "## Question: What would be the fair price of European style call option that expires 1 year from now?\n",
    "\n",
    "Consider answering this question using the single period binomial option pricing method? After all, we know the current stock price,Would this be the fair price? "
   ]
  },
  {
   "cell_type": "code",
   "execution_count": null,
   "metadata": {},
   "outputs": [],
   "source": []
  }
 ]
}